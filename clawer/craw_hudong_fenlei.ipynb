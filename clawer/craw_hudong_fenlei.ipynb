{
 "cells": [
  {
   "cell_type": "code",
   "execution_count": 1,
   "metadata": {
    "collapsed": true
   },
   "outputs": [],
   "source": [
    "from bs4 import BeautifulSoup\n",
    "from urllib.error import HTTPError, URLError\n",
    "import urllib.request\n",
    "import time\n",
    "import socket\n",
    "from collections import deque\n",
    "import pickle"
   ]
  },
  {
   "cell_type": "code",
   "execution_count": 2,
   "metadata": {
    "collapsed": true
   },
   "outputs": [],
   "source": [
    "socket.setdefaulttimeout(30)\n",
    "all_fenlei = set()\n",
    "work_list = deque()"
   ]
  },
  {
   "cell_type": "code",
   "execution_count": 3,
   "metadata": {
    "collapsed": true
   },
   "outputs": [],
   "source": [
    "def get_html(url, log_file, code='utf-8'):\n",
    "    \"\"\"获取请求url返回的页面，默认utf-8解码\"\"\"\n",
    "    for i in range(3):\n",
    "        try:\n",
    "            page = urllib.request.urlopen(url)\n",
    "            break\n",
    "        except HTTPError as e:\n",
    "            print('!!!%s，服务器不能应答，Error Code:%s' % (url, str(e.code)))\n",
    "            print('!!!%s，服务器不能应答，Error Code:%s' %\n",
    "                  (url, str(e.code)), file=log_file)\n",
    "        except URLError as e:\n",
    "            print('!!!%s，连接服务器失败，Reason:%s' % (url, str(e.reason)))\n",
    "            print('!!!%s，连接服务器失败，Reason:%s' %\n",
    "                  (url, str(e.reason)), file=log_file)\n",
    "        except socket.timeout:\n",
    "            print('!!!%s 访问超时' % url)\n",
    "            print('!!!%s 访问超时' % url, file=log_file)\n",
    "            time.sleep(60)\n",
    "        except Exception as e:\n",
    "            print('!!!%s 访问出错' + str(e) % url)\n",
    "            print('!!!%s 访问出错' + str(e) % url, file=log_file)\n",
    "        time.sleep(20)\n",
    "    else:\n",
    "        print('!!!%s 页面访问失败，丢弃' % url)\n",
    "        print('!!!%s 页面访问失败，丢弃' % url, file=log_file)\n",
    "        return \"\"\n",
    "\n",
    "    try:\n",
    "        html = page.read().decode(code, errors='ignore')\n",
    "        return html\n",
    "    except:\n",
    "        print('!!!%s 页面读取失败，丢弃' % url)\n",
    "        print('!!!%s 页面读取失败，丢弃' % url, file=log_file)\n",
    "        return \"\""
   ]
  },
  {
   "cell_type": "code",
   "execution_count": null,
   "metadata": {
    "collapsed": true
   },
   "outputs": [],
   "source": []
  }
 ],
 "metadata": {
  "kernelspec": {
   "display_name": "Python 3",
   "language": "python",
   "name": "python3"
  },
  "language_info": {
   "codemirror_mode": {
    "name": "ipython",
    "version": 3
   },
   "file_extension": ".py",
   "mimetype": "text/x-python",
   "name": "python",
   "nbconvert_exporter": "python",
   "pygments_lexer": "ipython3",
   "version": "3.6.3"
  }
 },
 "nbformat": 4,
 "nbformat_minor": 2
}
